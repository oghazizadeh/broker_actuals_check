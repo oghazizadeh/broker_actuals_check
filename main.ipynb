{
 "cells": [
  {
   "cell_type": "markdown",
   "metadata": {},
   "source": [
    "# Broker Actuals Check"
   ]
  },
  {
   "cell_type": "code",
   "execution_count": 1,
   "metadata": {},
   "outputs": [
    {
     "ename": "ModuleNotFoundError",
     "evalue": "No module named 'bloomberg.gdto'",
     "output_type": "error",
     "traceback": [
      "\u001b[1;31m---------------------------------------------------------------------------\u001b[0m",
      "\u001b[1;31mModuleNotFoundError\u001b[0m                       Traceback (most recent call last)",
      "\u001b[1;32m~\\AppData\\Local\\Temp\\X1mSIGvEqKLv4rki\\ipykernel_2780\\1708499722.py\u001b[0m in \u001b[0;36m<module>\u001b[1;34m\u001b[0m\n\u001b[0;32m     10\u001b[0m \u001b[1;32mimport\u001b[0m \u001b[0mjson\u001b[0m\u001b[1;33m\u001b[0m\u001b[1;33m\u001b[0m\u001b[0m\n\u001b[0;32m     11\u001b[0m \u001b[1;33m\u001b[0m\u001b[0m\n\u001b[1;32m---> 12\u001b[1;33m \u001b[1;32mfrom\u001b[0m \u001b[0msrc\u001b[0m \u001b[1;32mimport\u001b[0m \u001b[0mfetch_csmg_deep_data\u001b[0m\u001b[1;33m,\u001b[0m \u001b[0mparse_individual_bucket_main\u001b[0m\u001b[1;33m\u001b[0m\u001b[1;33m\u001b[0m\u001b[0m\n\u001b[0m\u001b[0;32m     13\u001b[0m \u001b[1;32mfrom\u001b[0m \u001b[0mbloomberg\u001b[0m\u001b[1;33m.\u001b[0m\u001b[0mgdto\u001b[0m\u001b[1;33m.\u001b[0m\u001b[0mbcos\u001b[0m\u001b[1;33m.\u001b[0m\u001b[0mbcos_client\u001b[0m \u001b[1;32mimport\u001b[0m \u001b[0mBCOSClient\u001b[0m\u001b[1;33m,\u001b[0m \u001b[0mBCOS_PROD_URL\u001b[0m\u001b[1;33m,\u001b[0m \u001b[0mCORP_TO_PROD_PROXIES\u001b[0m\u001b[1;33m\u001b[0m\u001b[1;33m\u001b[0m\u001b[0m\n\u001b[0;32m     14\u001b[0m \u001b[1;32mfrom\u001b[0m \u001b[0msrc\u001b[0m\u001b[1;33m.\u001b[0m\u001b[0mutils\u001b[0m \u001b[1;32mimport\u001b[0m \u001b[0mcredentials\u001b[0m\u001b[1;33m\u001b[0m\u001b[1;33m\u001b[0m\u001b[0m\n",
      "\u001b[1;32m~\\AppData\\Local\\bipy\\30789296\\projects\\e3291812464348a4ac259fdf49f0ecbd\\src\\__init__.py\u001b[0m in \u001b[0;36m<module>\u001b[1;34m\u001b[0m\n\u001b[1;32m----> 1\u001b[1;33m \u001b[1;32mfrom\u001b[0m \u001b[1;33m.\u001b[0m\u001b[0mtots\u001b[0m \u001b[1;32mimport\u001b[0m \u001b[0mfetch_csmg_deep_data\u001b[0m\u001b[1;33m,\u001b[0m \u001b[0mparse_individual_bucket_main\u001b[0m\u001b[1;33m\u001b[0m\u001b[1;33m\u001b[0m\u001b[0m\n\u001b[0m",
      "\u001b[1;32m~\\AppData\\Local\\bipy\\30789296\\projects\\e3291812464348a4ac259fdf49f0ecbd\\src\\tots.py\u001b[0m in \u001b[0;36m<module>\u001b[1;34m\u001b[0m\n\u001b[0;32m      6\u001b[0m \u001b[1;33m\u001b[0m\u001b[0m\n\u001b[0;32m      7\u001b[0m \u001b[1;32mfrom\u001b[0m \u001b[0mgzip\u001b[0m \u001b[1;32mimport\u001b[0m \u001b[0mdecompress\u001b[0m\u001b[1;33m\u001b[0m\u001b[1;33m\u001b[0m\u001b[0m\n\u001b[1;32m----> 8\u001b[1;33m \u001b[1;32mfrom\u001b[0m \u001b[0mbloomberg\u001b[0m\u001b[1;33m.\u001b[0m\u001b[0mgdto\u001b[0m\u001b[1;33m.\u001b[0m\u001b[0mbcos\u001b[0m\u001b[1;33m.\u001b[0m\u001b[0mbcos_client\u001b[0m \u001b[1;32mimport\u001b[0m \u001b[0mBCOSClient\u001b[0m\u001b[1;33m,\u001b[0m \u001b[0mBCOS_PROD_URL\u001b[0m\u001b[1;33m,\u001b[0m \u001b[0mCORP_TO_PROD_PROXIES\u001b[0m\u001b[1;33m\u001b[0m\u001b[1;33m\u001b[0m\u001b[0m\n\u001b[0m\u001b[0;32m      9\u001b[0m \u001b[1;33m\u001b[0m\u001b[0m\n\u001b[0;32m     10\u001b[0m \u001b[1;32mfrom\u001b[0m \u001b[0mdatetime\u001b[0m \u001b[1;32mimport\u001b[0m \u001b[0mdatetime\u001b[0m\u001b[1;33m\u001b[0m\u001b[1;33m\u001b[0m\u001b[0m\n",
      "\u001b[1;31mModuleNotFoundError\u001b[0m: No module named 'bloomberg.gdto'"
     ]
    }
   ],
   "source": [
    "import numpy as np\n",
    "import pandas as pd\n",
    "import os\n",
    "\n",
    "import bql\n",
    "bq = bql.Service()\n",
    "\n",
    "from IPython.display import display\n",
    "from datetime import datetime\n",
    "import json\n",
    "\n",
    "from src import fetch_csmg_deep_data, parse_individual_bucket_main\n",
    "from bloomberg.gdto.bcos.bcos_client import BCOSClient, BCOS_PROD_URL, CORP_TO_PROD_PROXIES\n",
    "from src.utils import credentials"
   ]
  },
  {
   "cell_type": "code",
   "execution_count": 2,
   "metadata": {},
   "outputs": [
    {
     "data": {
      "text/plain": [
       "'C:/Users/oghazizadeh/AppData/Local/bipy/30789296/projects/e3291812464348a4ac259fdf49f0ecbd'"
      ]
     },
     "execution_count": 2,
     "metadata": {},
     "output_type": "execute_result"
    }
   ],
   "source": [
    "import os\n",
    "os.getcwd().replace('\\\\', '/')"
   ]
  },
  {
   "cell_type": "code",
   "execution_count": 2,
   "metadata": {},
   "outputs": [],
   "source": [
    "tot_bcos_client = BCOSClient(\n",
    "    api_url=BCOS_PROD_URL,\n",
    "    api_user=credentials['API_ACCOUNT'],\n",
    "    api_key=credentials['API_KEY'],\n",
    "    proxy=CORP_TO_PROD_PROXIES\n",
    ")\n",
    "tot_bucket = credentials['bucket']"
   ]
  },
  {
   "cell_type": "code",
   "execution_count": 3,
   "metadata": {},
   "outputs": [],
   "source": [
    "ticker = 'AAPL US Equity'\n",
    "calcrt = 'IS900'\n",
    "segment_id = None"
   ]
  },
  {
   "cell_type": "code",
   "execution_count": 4,
   "metadata": {},
   "outputs": [],
   "source": [
    "csmg_deep_data = fetch_csmg_deep_data(ticker=ticker, bucket=tot_bucket, client=tot_bcos_client)\n",
    "broker_actuals = parse_individual_bucket_main(ticker, csmg_deep_data, calcrt=calcrt, segment_id=segment_id)"
   ]
  },
  {
   "cell_type": "code",
   "execution_count": 5,
   "metadata": {},
   "outputs": [],
   "source": [
    "broker_actuals.period = broker_actuals.period.apply(lambda x: f\"{x[:4]} {x[4:]}\")\n",
    "queries = broker_actuals.apply(lambda x: f\"get({x.calcrt}(fpt={'A' if 'A' in x.period else 'Q'}, fpr='{x.period}')) for('{x.segment_id}') preferences(dropcols=[REVISION_DATE, AS_OF_DATE, CURRENCY], addcols=[period])\", 1).pipe(list)\n",
    "response = bq.execute_many(queries)\n",
    "financials = (\n",
    "    pd.concat([bql.combined_df(res) for res in response])\n",
    "        .reset_index()\n",
    "        .melt(id_vars=['ID', 'PERIOD_END_DATE', 'PERIOD'])\n",
    "        .dropna(subset=['value'])\n",
    "        .reset_index(drop=True)\n",
    "        .pipe(lambda x: x.set_axis(x.columns.str.lower(), axis='columns'))\n",
    ")"
   ]
  },
  {
   "cell_type": "markdown",
   "metadata": {},
   "source": [
    "### NOTE\n",
    "Next step is to join financials and broker actuals for comparison\n",
    "<br>\n",
    "This code needs to be refactored if it is turned into a routine check"
   ]
  },
  {
   "cell_type": "code",
   "execution_count": 6,
   "metadata": {},
   "outputs": [
    {
     "data": {
      "text/html": [
       "<div>\n",
       "<style scoped>\n",
       "    .dataframe tbody tr th:only-of-type {\n",
       "        vertical-align: middle;\n",
       "    }\n",
       "\n",
       "    .dataframe tbody tr th {\n",
       "        vertical-align: top;\n",
       "    }\n",
       "\n",
       "    .dataframe thead th {\n",
       "        text-align: right;\n",
       "    }\n",
       "</style>\n",
       "<table border=\"1\" class=\"dataframe\">\n",
       "  <thead>\n",
       "    <tr style=\"text-align: right;\">\n",
       "      <th></th>\n",
       "      <th>calcrt</th>\n",
       "      <th>segment_id</th>\n",
       "      <th>period</th>\n",
       "      <th>broker_actuals</th>\n",
       "    </tr>\n",
       "  </thead>\n",
       "  <tbody>\n",
       "    <tr>\n",
       "      <th>0</th>\n",
       "      <td>IS900</td>\n",
       "      <td>AAPL US Equity</td>\n",
       "      <td>1994 A</td>\n",
       "      <td>0.000873</td>\n",
       "    </tr>\n",
       "    <tr>\n",
       "      <th>1</th>\n",
       "      <td>IS900</td>\n",
       "      <td>AAPL US Equity</td>\n",
       "      <td>1994 Q1</td>\n",
       "      <td>0.003052</td>\n",
       "    </tr>\n",
       "    <tr>\n",
       "      <th>2</th>\n",
       "      <td>IS900</td>\n",
       "      <td>AAPL US Equity</td>\n",
       "      <td>1994 Q2</td>\n",
       "      <td>0.001276</td>\n",
       "    </tr>\n",
       "    <tr>\n",
       "      <th>3</th>\n",
       "      <td>IS900</td>\n",
       "      <td>AAPL US Equity</td>\n",
       "      <td>1994 Q3</td>\n",
       "      <td>0.010442</td>\n",
       "    </tr>\n",
       "    <tr>\n",
       "      <th>4</th>\n",
       "      <td>IS900</td>\n",
       "      <td>AAPL US Equity</td>\n",
       "      <td>1994 Q4</td>\n",
       "      <td>0.008454</td>\n",
       "    </tr>\n",
       "  </tbody>\n",
       "</table>\n",
       "</div>"
      ],
      "text/plain": [
       "  calcrt      segment_id   period  broker_actuals\n",
       "0  IS900  AAPL US Equity   1994 A        0.000873\n",
       "1  IS900  AAPL US Equity  1994 Q1        0.003052\n",
       "2  IS900  AAPL US Equity  1994 Q2        0.001276\n",
       "3  IS900  AAPL US Equity  1994 Q3        0.010442\n",
       "4  IS900  AAPL US Equity  1994 Q4        0.008454"
      ]
     },
     "execution_count": 6,
     "metadata": {},
     "output_type": "execute_result"
    }
   ],
   "source": [
    "broker_actuals.head()"
   ]
  },
  {
   "cell_type": "code",
   "execution_count": 7,
   "metadata": {},
   "outputs": [
    {
     "data": {
      "text/html": [
       "<div>\n",
       "<style scoped>\n",
       "    .dataframe tbody tr th:only-of-type {\n",
       "        vertical-align: middle;\n",
       "    }\n",
       "\n",
       "    .dataframe tbody tr th {\n",
       "        vertical-align: top;\n",
       "    }\n",
       "\n",
       "    .dataframe thead th {\n",
       "        text-align: right;\n",
       "    }\n",
       "</style>\n",
       "<table border=\"1\" class=\"dataframe\">\n",
       "  <thead>\n",
       "    <tr style=\"text-align: right;\">\n",
       "      <th></th>\n",
       "      <th>id</th>\n",
       "      <th>period_end_date</th>\n",
       "      <th>period</th>\n",
       "      <th>variable</th>\n",
       "      <th>value</th>\n",
       "    </tr>\n",
       "  </thead>\n",
       "  <tbody>\n",
       "    <tr>\n",
       "      <th>0</th>\n",
       "      <td>AAPL US Equity</td>\n",
       "      <td>1994-09-30</td>\n",
       "      <td>1994 A</td>\n",
       "      <td>IS900(fpt=A,fpr='1994 A')</td>\n",
       "      <td>0.023304</td>\n",
       "    </tr>\n",
       "    <tr>\n",
       "      <th>1</th>\n",
       "      <td>AAPL US Equity</td>\n",
       "      <td>1993-12-31</td>\n",
       "      <td>1994 Q1</td>\n",
       "      <td>IS900(fpt=Q,fpr='1994 Q1')</td>\n",
       "      <td>0.003036</td>\n",
       "    </tr>\n",
       "    <tr>\n",
       "      <th>2</th>\n",
       "      <td>AAPL US Equity</td>\n",
       "      <td>1994-03-31</td>\n",
       "      <td>1994 Q2</td>\n",
       "      <td>IS900(fpt=Q,fpr='1994 Q2')</td>\n",
       "      <td>0.001339</td>\n",
       "    </tr>\n",
       "    <tr>\n",
       "      <th>3</th>\n",
       "      <td>AAPL US Equity</td>\n",
       "      <td>1994-07-01</td>\n",
       "      <td>1994 Q3</td>\n",
       "      <td>IS900(fpt=Q,fpr='1994 Q3')</td>\n",
       "      <td>0.010357</td>\n",
       "    </tr>\n",
       "    <tr>\n",
       "      <th>4</th>\n",
       "      <td>AAPL US Equity</td>\n",
       "      <td>1994-09-30</td>\n",
       "      <td>1994 Q4</td>\n",
       "      <td>IS900(fpt=Q,fpr='1994 Q4')</td>\n",
       "      <td>0.008482</td>\n",
       "    </tr>\n",
       "  </tbody>\n",
       "</table>\n",
       "</div>"
      ],
      "text/plain": [
       "               id period_end_date   period                    variable  \\\n",
       "0  AAPL US Equity      1994-09-30   1994 A   IS900(fpt=A,fpr='1994 A')   \n",
       "1  AAPL US Equity      1993-12-31  1994 Q1  IS900(fpt=Q,fpr='1994 Q1')   \n",
       "2  AAPL US Equity      1994-03-31  1994 Q2  IS900(fpt=Q,fpr='1994 Q2')   \n",
       "3  AAPL US Equity      1994-07-01  1994 Q3  IS900(fpt=Q,fpr='1994 Q3')   \n",
       "4  AAPL US Equity      1994-09-30  1994 Q4  IS900(fpt=Q,fpr='1994 Q4')   \n",
       "\n",
       "      value  \n",
       "0  0.023304  \n",
       "1  0.003036  \n",
       "2  0.001339  \n",
       "3  0.010357  \n",
       "4  0.008482  "
      ]
     },
     "execution_count": 7,
     "metadata": {},
     "output_type": "execute_result"
    }
   ],
   "source": [
    "financials.head()"
   ]
  }
 ],
 "metadata": {
  "kernelspec": {
   "display_name": "Python 3 (sandboxed)",
   "language": "python",
   "name": "python3"
  },
  "language_info": {
   "codemirror_mode": {
    "name": "ipython",
    "version": 3
   },
   "file_extension": ".py",
   "mimetype": "text/x-python",
   "name": "python",
   "nbconvert_exporter": "python",
   "pygments_lexer": "ipython3",
   "version": "3.7.1"
  }
 },
 "nbformat": 4,
 "nbformat_minor": 4
}
